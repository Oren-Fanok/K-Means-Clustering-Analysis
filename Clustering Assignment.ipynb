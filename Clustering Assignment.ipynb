{
 "cells": [
  {
   "cell_type": "markdown",
   "id": "b53e7d38",
   "metadata": {},
   "source": [
    "# Clustering Analysis"
   ]
  },
  {
   "cell_type": "code",
   "execution_count": 1,
   "id": "2e2cab56",
   "metadata": {},
   "outputs": [],
   "source": [
    "import pandas as pd\n",
    "import numpy as np\n",
    "from matplotlib import pyplot as plt\n",
    "from sklearn.cluster import KMeans"
   ]
  },
  {
   "cell_type": "markdown",
   "id": "ff5b83dc",
   "metadata": {},
   "source": [
    "## Demographic Clustering\n",
    "\n",
    "In this section, I will perform a cluster analysis using the fields unrelated below:\n",
    "\n",
    "* age\n",
    "* gender\n",
    "* engagement\n",
    "* account.age\n"
   ]
  },
  {
   "cell_type": "markdown",
   "id": "bb11aa73",
   "metadata": {},
   "source": [
    "# Reading in the data"
   ]
  },
  {
   "cell_type": "code",
   "execution_count": 2,
   "id": "e97f5e78",
   "metadata": {},
   "outputs": [],
   "source": [
    "cluster_df = pd.read_csv(\"washington_survey_data.txt\",sep=\"\\t\")"
   ]
  },
  {
   "cell_type": "code",
   "execution_count": 3,
   "id": "03c20932",
   "metadata": {},
   "outputs": [],
   "source": [
    "cluster_df= cluster_df.replace('Highly Engaged', 'Highly_Engaged')\n",
    "cluster_df= cluster_df.replace('Not Engaged', 'Not_Engaged')\n"
   ]
  },
  {
   "cell_type": "code",
   "execution_count": 4,
   "id": "4a5f98fb",
   "metadata": {},
   "outputs": [],
   "source": [
    "#cluster_df"
   ]
  },
  {
   "cell_type": "markdown",
   "id": "49f39338",
   "metadata": {},
   "source": [
    "# Convert the data to numeric"
   ]
  },
  {
   "cell_type": "code",
   "execution_count": 5,
   "id": "3ef7bc63",
   "metadata": {
    "scrolled": true
   },
   "outputs": [],
   "source": [
    "cluster_df.gender = cluster_df.gender.map(dict(other=0,male=1, female=2))"
   ]
  },
  {
   "cell_type": "code",
   "execution_count": 6,
   "id": "fcc0968f",
   "metadata": {},
   "outputs": [],
   "source": [
    "cluster_df.engagement = cluster_df.engagement.map(dict(Not_Engaged=0, Engaged=1, Highly_Engaged=2))"
   ]
  },
  {
   "cell_type": "code",
   "execution_count": 7,
   "id": "13ee573e",
   "metadata": {},
   "outputs": [],
   "source": [
    "#cluster_df"
   ]
  },
  {
   "cell_type": "markdown",
   "id": "a52098a9",
   "metadata": {},
   "source": [
    "# Normalize the Data"
   ]
  },
  {
   "cell_type": "code",
   "execution_count": 8,
   "id": "ac6a3e9a",
   "metadata": {},
   "outputs": [],
   "source": [
    "required_cols = ['age','gender', 'engagement', 'account.age']"
   ]
  },
  {
   "cell_type": "code",
   "execution_count": 9,
   "id": "dd3b830b",
   "metadata": {},
   "outputs": [],
   "source": [
    "numeric_df = cluster_df.loc[:,required_cols]"
   ]
  },
  {
   "cell_type": "code",
   "execution_count": 10,
   "id": "fb05dcd9",
   "metadata": {
    "scrolled": true
   },
   "outputs": [],
   "source": [
    "#numeric_df"
   ]
  },
  {
   "cell_type": "code",
   "execution_count": 11,
   "id": "651a7cc0",
   "metadata": {},
   "outputs": [],
   "source": [
    "numeric_df_normalized =(numeric_df-numeric_df.min())/(numeric_df.max()-numeric_df.min())"
   ]
  },
  {
   "cell_type": "code",
   "execution_count": 12,
   "id": "eb0a81bf",
   "metadata": {},
   "outputs": [],
   "source": [
    "#numeric_df_normalized"
   ]
  },
  {
   "cell_type": "markdown",
   "id": "13a7b179",
   "metadata": {},
   "source": [
    "# Building our K Means Model"
   ]
  },
  {
   "cell_type": "code",
   "execution_count": 13,
   "id": "db5b216d",
   "metadata": {},
   "outputs": [],
   "source": [
    "km_1 = KMeans(\n",
    "    n_clusters=3, init='random',\n",
    "    n_init=10, max_iter=300, \n",
    "    tol=1e-04, random_state=0\n",
    ")"
   ]
  },
  {
   "cell_type": "code",
   "execution_count": 14,
   "id": "82ae64a8",
   "metadata": {},
   "outputs": [],
   "source": [
    "clustering_1 = km_1.fit_predict(numeric_df_normalized)"
   ]
  },
  {
   "cell_type": "code",
   "execution_count": 15,
   "id": "d4d4d82b",
   "metadata": {},
   "outputs": [],
   "source": [
    "cluster_df['cluster'] = clustering_1"
   ]
  },
  {
   "cell_type": "markdown",
   "id": "82c39cc7",
   "metadata": {},
   "source": [
    "# Results"
   ]
  },
  {
   "cell_type": "code",
   "execution_count": 29,
   "id": "f8952bd1",
   "metadata": {},
   "outputs": [
    {
     "name": "stdout",
     "output_type": "stream",
     "text": [
      "Printing Results for Cluster 0.\n",
      "\n",
      "\n",
      "         id  age  gender  engagement  mem.edu      zip channel  progressivism  \\\n",
      "0       346   56       0           1        2  98503.0  Branch      -0.083333   \n",
      "2       349   71       1           0        7  98506.0  Branch       1.000000   \n",
      "3       352   66       1           1        7      NaN  Branch       0.583333   \n",
      "6       367   49       1           1        4      NaN  Branch       1.791667   \n",
      "7       368   43       1           0        6  99163.0  Branch       2.500000   \n",
      "...     ...  ...     ...         ...      ...      ...     ...            ...   \n",
      "2391  19904   55       1           0        5  99163.0  Branch       0.666667   \n",
      "2401  20181   71       1           1        8  98103.0  Branch       0.791667   \n",
      "2413  21907   48       1           1        3  99006.0  Branch       0.166667   \n",
      "2414  21962   49       1           0        3  98596.0  Branch      -0.083333   \n",
      "2419  23167   33       1           1        6      NaN  Branch       0.208333   \n",
      "\n",
      "      harm  fair  ...          region  public.sector  sustainability  \\\n",
      "0     1.00  1.00  ...        Thurston            yes        2.333333   \n",
      "2     3.25  4.25  ...        Thurston            yes        5.166667   \n",
      "3     4.25  4.75  ...      W WA Metro             no        5.500000   \n",
      "6     4.25  4.50  ...      W WA Metro            yes        5.833333   \n",
      "7     4.75  4.25  ...  E WA Non Metro            yes        3.333333   \n",
      "...    ...   ...  ...             ...            ...             ...   \n",
      "2391  4.00  5.00  ...  E WA Non Metro            yes        1.166667   \n",
      "2401  3.25  4.00  ...      W WA Metro            yes        5.000000   \n",
      "2413  4.25  4.25  ...      E WA Metro            yes        2.333333   \n",
      "2414  4.25  4.25  ...  W WA Non Metro             no        4.000000   \n",
      "2419  5.00  4.75  ...        Thurston            yes        5.166667   \n",
      "\n",
      "      localism pub.greater.priv experience.more.important  teachers.underpaid  \\\n",
      "0         2.75                3                         3                   2   \n",
      "2         4.50                4                         3                   6   \n",
      "3         4.50                3                         3                   4   \n",
      "6         5.50                5                         2                   5   \n",
      "7         4.75                4                         3                   6   \n",
      "...        ...              ...                       ...                 ...   \n",
      "2391      3.00                1                         1                   1   \n",
      "2401      5.00                2                         3                   6   \n",
      "2413      4.00                3                         6                   4   \n",
      "2414      4.75                2                         4                   6   \n",
      "2419      6.00                6                         4                   6   \n",
      "\n",
      "                   main.focal.value  support.of.focal.value  cluster  \n",
      "0                      Homelessness                0.000000        0  \n",
      "2                    Hunger/Poverty               28.739986        0  \n",
      "3                         Education               18.055372        0  \n",
      "6                Human/Civil rights               58.088161        0  \n",
      "7                       Environment                9.126386        0  \n",
      "...                             ...                     ...      ...  \n",
      "2391                Law enforcement               34.502615        0  \n",
      "2401                      Education               15.350229        0  \n",
      "2413                Law enforcement               27.621298        0  \n",
      "2414  Health (i.e. cancer research)               12.019595        0  \n",
      "2419                      Education               73.189127        0  \n",
      "\n",
      "[669 rows x 24 columns]\n",
      "\n",
      "\n",
      "\n",
      "Printing Results for Cluster 1.\n",
      "\n",
      "\n",
      "         id  age  gender  engagement  mem.edu      zip channel  progressivism  \\\n",
      "1       348   66       2           2        3  98012.0  Branch       2.291667   \n",
      "4       358   50       1           2        4  98233.0  Branch      -0.500000   \n",
      "8       369   61       1           2        3  98133.0  Branch       0.500000   \n",
      "9       371   71       2           2        6      NaN  Branch       3.166667   \n",
      "10      372   73       2           2        6  98506.0  Branch       1.958333   \n",
      "...     ...  ...     ...         ...      ...      ...     ...            ...   \n",
      "2409  21255   45       2           2        4  98503.0  Branch       1.208333   \n",
      "2410  21767   25       2           2        5      NaN  Branch       0.375000   \n",
      "2411  21768   55       2           2        4  98579.0  Branch       1.916667   \n",
      "2412  21872   64       2           2        4  99205.0  Branch       1.458333   \n",
      "2415  22002   71       1           2        5  99224.0  Branch       0.125000   \n",
      "\n",
      "      harm  fair  ...          region  public.sector  sustainability  \\\n",
      "1     5.00  4.75  ...      W WA Metro            yes        6.000000   \n",
      "4     2.00  4.50  ...  W WA Non Metro            yes        2.833333   \n",
      "8     4.25  4.25  ...      W WA Metro            yes        2.500000   \n",
      "9     4.75  4.25  ...      W WA Metro            yes        5.333333   \n",
      "10    3.75  5.00  ...        Thurston            yes        4.833333   \n",
      "...    ...   ...  ...             ...            ...             ...   \n",
      "2409  4.50  4.25  ...        Thurston            yes        4.333333   \n",
      "2410  3.75  4.50  ...      W WA Metro            yes        4.666667   \n",
      "2411  3.75  4.25  ...        Thurston            yes        4.833333   \n",
      "2412  4.50  4.25  ...      E WA Metro            yes        6.000000   \n",
      "2415  3.75  5.00  ...      E WA Metro            yes        3.000000   \n",
      "\n",
      "      localism pub.greater.priv experience.more.important  teachers.underpaid  \\\n",
      "1         5.75                1                         4                   5   \n",
      "4         4.00                2                         4                   5   \n",
      "8         2.75                4                         5                   6   \n",
      "9         6.00                1                         3                   4   \n",
      "10        5.75                3                         4                   5   \n",
      "...        ...              ...                       ...                 ...   \n",
      "2409      5.00                2                         6                   6   \n",
      "2410      4.75                3                         4                   6   \n",
      "2411      4.00                4                         4                   6   \n",
      "2412      6.00                4                         4                   6   \n",
      "2415      5.00                3                         5                   1   \n",
      "\n",
      "                   main.focal.value  support.of.focal.value  cluster  \n",
      "1                       Environment               18.627830        1  \n",
      "4                         Education                4.400921        1  \n",
      "8                Human/Civil rights                4.400921        1  \n",
      "9                       Environment               82.125688        1  \n",
      "10                      Environment               32.595176        1  \n",
      "...                             ...                     ...      ...  \n",
      "2409                  Animal rights               12.344138        1  \n",
      "2410             Human/Civil rights               22.456294        1  \n",
      "2411                        Specify               19.613599        1  \n",
      "2412                   Homelessness               24.174964        1  \n",
      "2415  Health (i.e. cancer research)               45.183393        1  \n",
      "\n",
      "[849 rows x 24 columns]\n",
      "\n",
      "\n",
      "\n",
      "Printing Results for Cluster 2.\n",
      "\n",
      "\n",
      "         id  age  gender  engagement  mem.edu      zip channel  progressivism  \\\n",
      "5       361   40       2           1        3  98520.0  Branch       0.541667   \n",
      "13      375   79       2           1        2  98532.0  Branch       0.208333   \n",
      "18      426   29       2           1        3      NaN   Other      -1.208333   \n",
      "20      430   29       2           1        6  98938.0    Loan       1.375000   \n",
      "21      432   40       2           1        3      NaN  Branch       1.500000   \n",
      "...     ...  ...     ...         ...      ...      ...     ...            ...   \n",
      "2407  21145   26       2           0        6  99336.0  Branch       0.000000   \n",
      "2416  22070   83       2           1        6  99163.0  Branch       1.125000   \n",
      "2417  22163   93       2           1        5  98103.0  Branch       1.583333   \n",
      "2418  22830   45       2           0        4      NaN  Branch       1.208333   \n",
      "2420  23329   27       2           0        4  98502.0  Branch       1.666667   \n",
      "\n",
      "      harm  fair  ...          region  public.sector  sustainability  \\\n",
      "5     3.75  4.00  ...  W WA Non Metro            yes        3.500000   \n",
      "13    4.50  4.25  ...  W WA Non Metro             no        4.333333   \n",
      "18    3.75  1.50  ...  W WA Non Metro             no        4.000000   \n",
      "20    3.50  4.25  ...  E WA Non Metro             no        2.333333   \n",
      "21    5.00  3.50  ...      E WA Metro             no        5.500000   \n",
      "...    ...   ...  ...             ...            ...             ...   \n",
      "2407  4.00  4.00  ...  E WA Non Metro            yes        5.666667   \n",
      "2416  4.75  4.50  ...  E WA Non Metro            yes        3.666667   \n",
      "2417  4.75  4.25  ...      W WA Metro             no        5.166667   \n",
      "2418  4.00  3.75  ...      E WA Metro            yes        4.500000   \n",
      "2420  4.00  4.00  ...        Thurston             no        5.500000   \n",
      "\n",
      "      localism pub.greater.priv experience.more.important  teachers.underpaid  \\\n",
      "5         5.25                3                         5                   6   \n",
      "13        5.00                4                         3                   4   \n",
      "18        4.00                1                         4                   1   \n",
      "20        4.75                3                         4                   5   \n",
      "21        6.00                4                         4                   5   \n",
      "...        ...              ...                       ...                 ...   \n",
      "2407      6.00                1                         4                   6   \n",
      "2416      3.75                3                         4                   5   \n",
      "2417      5.75                4                         3                   6   \n",
      "2418      5.50                4                         5                   6   \n",
      "2420      5.25                3                         6                   4   \n",
      "\n",
      "      main.focal.value  support.of.focal.value  cluster  \n",
      "5         Homelessness               28.680137        2  \n",
      "13      Hunger/Poverty               16.335998        2  \n",
      "18     Law enforcement               14.837621        2  \n",
      "20      Hunger/Poverty               10.112156        2  \n",
      "21       Animal rights               35.071238        2  \n",
      "...                ...                     ...      ...  \n",
      "2407         Education                6.223843        2  \n",
      "2416    Domestic abuse               21.061463        2  \n",
      "2417         Education               22.968902        2  \n",
      "2418           Specify               37.564720        2  \n",
      "2420       Environment               18.055372        2  \n",
      "\n",
      "[903 rows x 24 columns]\n",
      "\n",
      "\n",
      "\n"
     ]
    }
   ],
   "source": [
    "for cluster in set(clustering_1) :\n",
    "    print(f'Printing Results for Cluster {cluster}.\\n\\n')\n",
    "    \n",
    "    print(cluster_df.query(f\"cluster == {cluster}\"))\n",
    "    \n",
    "    print(\"\\n\\n\")"
   ]
  },
  {
   "cell_type": "markdown",
   "id": "814d4d12",
   "metadata": {},
   "source": [
    "## Values Clustering\n",
    "\n",
    "Similarly to the previous section, perform a cluster analysis, this time on the values questions:\n",
    "\n",
    "* fair\n",
    "* harm\n",
    "* in.group\n",
    "* authority\n",
    "* purity\n",
    "* public.sector\n",
    "* sustainability\n",
    "* localism\n",
    "\n",
    "After you’ve built your clusters, report the following information on each cluster:\n",
    "\n",
    "* Predominant region\n",
    "* Average age and account age\n",
    "* Most common focal value\n",
    "* Mean results on the questions of `pub.greater.priv`, `experience.more.important`, and `teachers.underpaid`. "
   ]
  },
  {
   "cell_type": "markdown",
   "id": "8e9f6a78",
   "metadata": {},
   "source": [
    "# Read in the data"
   ]
  },
  {
   "cell_type": "code",
   "execution_count": 34,
   "id": "a03fb0ec",
   "metadata": {},
   "outputs": [],
   "source": [
    "cluster_df_2 = pd.read_csv(\"washington_survey_data.txt\",sep=\"\\t\")\n",
    "cluster_df_2.rename(columns = {'public.sector':'public_sector'}, inplace = True)\n"
   ]
  },
  {
   "cell_type": "markdown",
   "id": "968ba8e9",
   "metadata": {},
   "source": [
    "# Convert Data to Numeric"
   ]
  },
  {
   "cell_type": "code",
   "execution_count": 36,
   "id": "2d9ba8e6",
   "metadata": {},
   "outputs": [],
   "source": [
    "cluster_df_2.public_sector = cluster_df_2.public_sector.map(dict(no=0,yes=1))"
   ]
  },
  {
   "cell_type": "markdown",
   "id": "6b81f824",
   "metadata": {},
   "source": [
    "# Normalize our data"
   ]
  },
  {
   "cell_type": "code",
   "execution_count": 37,
   "id": "dd9ab2e0",
   "metadata": {},
   "outputs": [],
   "source": [
    "required_cols_2 = ['fair','harm', 'in.group', 'authority', 'purity', 'public_sector', 'sustainability', 'localism']"
   ]
  },
  {
   "cell_type": "code",
   "execution_count": 38,
   "id": "82b5e980",
   "metadata": {},
   "outputs": [],
   "source": [
    "numeric_df_2 = cluster_df_2.loc[:,required_cols_2]"
   ]
  },
  {
   "cell_type": "code",
   "execution_count": 39,
   "id": "25aef673",
   "metadata": {},
   "outputs": [],
   "source": [
    "numeric_df_2_norm =(numeric_df_2-numeric_df_2.min())/(numeric_df_2.max()-numeric_df_2.min())"
   ]
  },
  {
   "cell_type": "markdown",
   "id": "49fc8c92",
   "metadata": {},
   "source": [
    "# Building K Means Model"
   ]
  },
  {
   "cell_type": "code",
   "execution_count": 42,
   "id": "1c1e2f54",
   "metadata": {},
   "outputs": [],
   "source": [
    "km_2 = KMeans(\n",
    "    n_clusters=3, init='random',\n",
    "    n_init=10, max_iter=300, \n",
    "    tol=1e-04, random_state=0\n",
    ")"
   ]
  },
  {
   "cell_type": "code",
   "execution_count": 43,
   "id": "15576be7",
   "metadata": {},
   "outputs": [],
   "source": [
    "clustering_2 = km_2.fit_predict(numeric_df_2_norm)"
   ]
  },
  {
   "cell_type": "code",
   "execution_count": 44,
   "id": "ab16b33c",
   "metadata": {},
   "outputs": [],
   "source": [
    "cluster_df_2['cluster'] = clustering_2"
   ]
  },
  {
   "cell_type": "markdown",
   "id": "3da3ea09",
   "metadata": {},
   "source": [
    "# Results"
   ]
  },
  {
   "cell_type": "code",
   "execution_count": 45,
   "id": "dcfff6fc",
   "metadata": {},
   "outputs": [
    {
     "name": "stdout",
     "output_type": "stream",
     "text": [
      "Printing Results for Cluster 0.\n",
      "\n",
      "\n",
      "         id  age  gender      engagement  mem.edu      zip channel  \\\n",
      "4       358   50    male  Highly Engaged        4  98233.0  Branch   \n",
      "5       361   40  female         Engaged        3  98520.0  Branch   \n",
      "8       369   61    male  Highly Engaged        3  98133.0  Branch   \n",
      "19      429   46    male  Highly Engaged        5      NaN  Branch   \n",
      "25      437   43  female     Not Engaged        4      NaN  Branch   \n",
      "...     ...  ...     ...             ...      ...      ...     ...   \n",
      "2410  21767   25  female  Highly Engaged        5      NaN  Branch   \n",
      "2413  21907   48    male         Engaged        3  99006.0  Branch   \n",
      "2415  22002   71    male  Highly Engaged        5  99224.0  Branch   \n",
      "2416  22070   83  female         Engaged        6  99163.0  Branch   \n",
      "2419  23167   33    male         Engaged        6      NaN  Branch   \n",
      "\n",
      "      progressivism  harm  fair  ...          region  public_sector  \\\n",
      "4         -0.500000  2.00  4.50  ...  W WA Non Metro              1   \n",
      "5          0.541667  3.75  4.00  ...  W WA Non Metro              1   \n",
      "8          0.500000  4.25  4.25  ...      W WA Metro              1   \n",
      "19         1.541667  4.50  3.75  ...        Thurston              1   \n",
      "25         0.625000  4.00  3.75  ...        Thurston              1   \n",
      "...             ...   ...   ...  ...             ...            ...   \n",
      "2410       0.375000  3.75  4.50  ...      W WA Metro              1   \n",
      "2413       0.166667  4.25  4.25  ...      E WA Metro              1   \n",
      "2415       0.125000  3.75  5.00  ...      E WA Metro              1   \n",
      "2416       1.125000  4.75  4.50  ...  E WA Non Metro              1   \n",
      "2419       0.208333  5.00  4.75  ...        Thurston              1   \n",
      "\n",
      "      sustainability  localism pub.greater.priv  experience.more.important  \\\n",
      "4           2.833333      4.00                2                          4   \n",
      "5           3.500000      5.25                3                          5   \n",
      "8           2.500000      2.75                4                          5   \n",
      "19          2.500000      4.25                3                          5   \n",
      "25          5.000000      6.00                4                          2   \n",
      "...              ...       ...              ...                        ...   \n",
      "2410        4.666667      4.75                3                          4   \n",
      "2413        2.333333      4.00                3                          6   \n",
      "2415        3.000000      5.00                3                          5   \n",
      "2416        3.666667      3.75                3                          4   \n",
      "2419        5.166667      6.00                6                          4   \n",
      "\n",
      "      teachers.underpaid               main.focal.value  \\\n",
      "4                      5                      Education   \n",
      "5                      6                   Homelessness   \n",
      "8                      6             Human/Civil rights   \n",
      "19                     3                  Animal rights   \n",
      "25                     3             Human/Civil rights   \n",
      "...                  ...                            ...   \n",
      "2410                   6             Human/Civil rights   \n",
      "2413                   4                Law enforcement   \n",
      "2415                   1  Health (i.e. cancer research)   \n",
      "2416                   5                 Domestic abuse   \n",
      "2419                   6                      Education   \n",
      "\n",
      "      support.of.focal.value  cluster  \n",
      "4                   4.400921        0  \n",
      "5                  28.680137        0  \n",
      "8                   4.400921        0  \n",
      "19                 49.038584        0  \n",
      "25                  4.400921        0  \n",
      "...                      ...      ...  \n",
      "2410               22.456294        0  \n",
      "2413               27.621298        0  \n",
      "2415               45.183393        0  \n",
      "2416               21.061463        0  \n",
      "2419               73.189127        0  \n",
      "\n",
      "[772 rows x 24 columns]\n",
      "\n",
      "\n",
      "\n",
      "Printing Results for Cluster 1.\n",
      "\n",
      "\n",
      "         id  age  gender      engagement  mem.edu      zip channel  \\\n",
      "0       346   56   other         Engaged        2  98503.0  Branch   \n",
      "1       348   66  female  Highly Engaged        3  98012.0  Branch   \n",
      "2       349   71    male     Not Engaged        7  98506.0  Branch   \n",
      "6       367   49    male         Engaged        4      NaN  Branch   \n",
      "7       368   43    male     Not Engaged        6  99163.0  Branch   \n",
      "...     ...  ...     ...             ...      ...      ...     ...   \n",
      "2401  20181   71    male         Engaged        8  98103.0  Branch   \n",
      "2405  20958   56  female         Engaged        4  98404.0  Branch   \n",
      "2411  21768   55  female  Highly Engaged        4  98579.0  Branch   \n",
      "2412  21872   64  female  Highly Engaged        4  99205.0  Branch   \n",
      "2418  22830   45  female     Not Engaged        4      NaN  Branch   \n",
      "\n",
      "      progressivism  harm  fair  ...          region  public_sector  \\\n",
      "0         -0.083333  1.00  1.00  ...        Thurston              1   \n",
      "1          2.291667  5.00  4.75  ...      W WA Metro              1   \n",
      "2          1.000000  3.25  4.25  ...        Thurston              1   \n",
      "6          1.791667  4.25  4.50  ...      W WA Metro              1   \n",
      "7          2.500000  4.75  4.25  ...  E WA Non Metro              1   \n",
      "...             ...   ...   ...  ...             ...            ...   \n",
      "2401       0.791667  3.25  4.00  ...      W WA Metro              1   \n",
      "2405       1.458333  4.50  4.25  ...      W WA Metro              1   \n",
      "2411       1.916667  3.75  4.25  ...        Thurston              1   \n",
      "2412       1.458333  4.50  4.25  ...      E WA Metro              1   \n",
      "2418       1.208333  4.00  3.75  ...      E WA Metro              1   \n",
      "\n",
      "      sustainability  localism pub.greater.priv  experience.more.important  \\\n",
      "0           2.333333      2.75                3                          3   \n",
      "1           6.000000      5.75                1                          4   \n",
      "2           5.166667      4.50                4                          3   \n",
      "6           5.833333      5.50                5                          2   \n",
      "7           3.333333      4.75                4                          3   \n",
      "...              ...       ...              ...                        ...   \n",
      "2401        5.000000      5.00                2                          3   \n",
      "2405        6.000000      5.50                4                          4   \n",
      "2411        4.833333      4.00                4                          4   \n",
      "2412        6.000000      6.00                4                          4   \n",
      "2418        4.500000      5.50                4                          5   \n",
      "\n",
      "      teachers.underpaid               main.focal.value  \\\n",
      "0                      2                   Homelessness   \n",
      "1                      5                    Environment   \n",
      "2                      6                 Hunger/Poverty   \n",
      "6                      5             Human/Civil rights   \n",
      "7                      6                    Environment   \n",
      "...                  ...                            ...   \n",
      "2401                   6                      Education   \n",
      "2405                   4  Health (i.e. cancer research)   \n",
      "2411                   6                        Specify   \n",
      "2412                   6                   Homelessness   \n",
      "2418                   6                        Specify   \n",
      "\n",
      "      support.of.focal.value  cluster  \n",
      "0                   0.000000        1  \n",
      "1                  18.627830        1  \n",
      "2                  28.739986        1  \n",
      "6                  58.088161        1  \n",
      "7                   9.126386        1  \n",
      "...                      ...      ...  \n",
      "2401               15.350229        1  \n",
      "2405                9.126386        1  \n",
      "2411               19.613599        1  \n",
      "2412               24.174964        1  \n",
      "2418               37.564720        1  \n",
      "\n",
      "[629 rows x 24 columns]\n",
      "\n",
      "\n",
      "\n",
      "Printing Results for Cluster 2.\n",
      "\n",
      "\n",
      "         id  age  gender      engagement  mem.edu      zip channel  \\\n",
      "3       352   66    male         Engaged        7      NaN  Branch   \n",
      "13      375   79  female         Engaged        2  98532.0  Branch   \n",
      "14      399   60    male     Not Engaged        3  98001.0    Loan   \n",
      "17      425   31    male  Highly Engaged        3  98502.0  Branch   \n",
      "18      426   29  female         Engaged        3      NaN   Other   \n",
      "...     ...  ...     ...             ...      ...      ...     ...   \n",
      "2404  20945   61  female     Not Engaged        4  98028.0  Branch   \n",
      "2408  21209   65  female  Highly Engaged        4  98662.0  Branch   \n",
      "2414  21962   49    male     Not Engaged        3  98596.0  Branch   \n",
      "2417  22163   93  female         Engaged        5  98103.0  Branch   \n",
      "2420  23329   27  female     Not Engaged        4  98502.0  Branch   \n",
      "\n",
      "      progressivism  harm  fair  ...          region  public_sector  \\\n",
      "3          0.583333  4.25  4.75  ...      W WA Metro              0   \n",
      "13         0.208333  4.50  4.25  ...  W WA Non Metro              0   \n",
      "14         0.166667  3.75  3.25  ...      W WA Metro              0   \n",
      "17         0.208333  3.25  3.50  ...        Thurston              0   \n",
      "18        -1.208333  3.75  1.50  ...  W WA Non Metro              0   \n",
      "...             ...   ...   ...  ...             ...            ...   \n",
      "2404       1.083333  4.75  4.75  ...      W WA Metro              0   \n",
      "2408       0.208333  4.50  3.25  ...      W WA Metro              0   \n",
      "2414      -0.083333  4.25  4.25  ...  W WA Non Metro              0   \n",
      "2417       1.583333  4.75  4.25  ...      W WA Metro              0   \n",
      "2420       1.666667  4.00  4.00  ...        Thurston              0   \n",
      "\n",
      "      sustainability  localism pub.greater.priv  experience.more.important  \\\n",
      "3           5.500000      4.50                3                          3   \n",
      "13          4.333333      5.00                4                          3   \n",
      "14          4.000000      4.25                3                          4   \n",
      "17          5.333333      5.75                5                          5   \n",
      "18          4.000000      4.00                1                          4   \n",
      "...              ...       ...              ...                        ...   \n",
      "2404        4.500000      6.00                5                          3   \n",
      "2408        5.166667      5.25                1                          5   \n",
      "2414        4.000000      4.75                2                          4   \n",
      "2417        5.166667      5.75                4                          3   \n",
      "2420        5.500000      5.25                3                          6   \n",
      "\n",
      "      teachers.underpaid               main.focal.value  \\\n",
      "3                      4                      Education   \n",
      "13                     4                 Hunger/Poverty   \n",
      "14                     6                   Homelessness   \n",
      "17                     5             Human/Civil rights   \n",
      "18                     1                Law enforcement   \n",
      "...                  ...                            ...   \n",
      "2404                   5                      Education   \n",
      "2408                   4                  Animal rights   \n",
      "2414                   6  Health (i.e. cancer research)   \n",
      "2417                   6                      Education   \n",
      "2420                   4                    Environment   \n",
      "\n",
      "      support.of.focal.value  cluster  \n",
      "3                  18.055372        2  \n",
      "13                 16.335998        2  \n",
      "14                  4.400921        2  \n",
      "17                 42.814741        2  \n",
      "18                 14.837621        2  \n",
      "...                      ...      ...  \n",
      "2404                9.126386        2  \n",
      "2408               11.935077        2  \n",
      "2414               12.019595        2  \n",
      "2417               22.968902        2  \n",
      "2420               18.055372        2  \n",
      "\n",
      "[1020 rows x 24 columns]\n",
      "\n",
      "\n",
      "\n"
     ]
    }
   ],
   "source": [
    "for cluster in set(clustering_2) :\n",
    "    print(f'Printing Results for Cluster {cluster}.\\n\\n')\n",
    "    \n",
    "    print(cluster_df_2.query(f\"cluster == {cluster}\"))\n",
    "    \n",
    "    print(\"\\n\\n\")"
   ]
  },
  {
   "cell_type": "markdown",
   "id": "f77054ce",
   "metadata": {},
   "source": [
    "# Predominant Region Per Cluster"
   ]
  },
  {
   "cell_type": "code",
   "execution_count": 49,
   "id": "2c67adbe",
   "metadata": {},
   "outputs": [
    {
     "name": "stdout",
     "output_type": "stream",
     "text": [
      "0      Thurston\n",
      "1    W WA Metro\n",
      "Name: region, dtype: object\n"
     ]
    }
   ],
   "source": [
    "cluster_0 = cluster_df_2[cluster_df_2['cluster'] == 0]\n",
    "result_0 = cluster_0['region'].mode()\n",
    "print(result_0)"
   ]
  },
  {
   "cell_type": "code",
   "execution_count": 50,
   "id": "667c25a6",
   "metadata": {},
   "outputs": [
    {
     "name": "stdout",
     "output_type": "stream",
     "text": [
      "0    W WA Metro\n",
      "Name: region, dtype: object\n"
     ]
    }
   ],
   "source": [
    "cluster_1 = cluster_df_2[cluster_df_2['cluster'] == 1]\n",
    "result_1 = cluster_1['region'].mode()\n",
    "print(result_1)"
   ]
  },
  {
   "cell_type": "code",
   "execution_count": 51,
   "id": "b77118e5",
   "metadata": {},
   "outputs": [
    {
     "name": "stdout",
     "output_type": "stream",
     "text": [
      "0    W WA Metro\n",
      "Name: region, dtype: object\n"
     ]
    }
   ],
   "source": [
    "cluster_2 = cluster_df_2[cluster_df_2['cluster'] == 2]\n",
    "result_2 = cluster_2['region'].mode()\n",
    "print(result_2)"
   ]
  },
  {
   "cell_type": "markdown",
   "id": "f714a1f4",
   "metadata": {},
   "source": [
    "# Average Age Per Cluster"
   ]
  },
  {
   "cell_type": "code",
   "execution_count": 53,
   "id": "fc51d577",
   "metadata": {},
   "outputs": [
    {
     "data": {
      "text/plain": [
       "55.9779792746114"
      ]
     },
     "execution_count": 53,
     "metadata": {},
     "output_type": "execute_result"
    }
   ],
   "source": [
    "result_0 = cluster_0['age'].mean()\n",
    "result_0"
   ]
  },
  {
   "cell_type": "code",
   "execution_count": 54,
   "id": "f5b4b191",
   "metadata": {},
   "outputs": [
    {
     "data": {
      "text/plain": [
       "52.61685214626391"
      ]
     },
     "execution_count": 54,
     "metadata": {},
     "output_type": "execute_result"
    }
   ],
   "source": [
    "result_1 = cluster_1['age'].mean()\n",
    "result_1"
   ]
  },
  {
   "cell_type": "code",
   "execution_count": 55,
   "id": "8c2dda98",
   "metadata": {},
   "outputs": [
    {
     "data": {
      "text/plain": [
       "45.41470588235294"
      ]
     },
     "execution_count": 55,
     "metadata": {},
     "output_type": "execute_result"
    }
   ],
   "source": [
    "result_2 = cluster_2['age'].mean()\n",
    "result_2"
   ]
  },
  {
   "cell_type": "markdown",
   "id": "b35e9c51",
   "metadata": {},
   "source": [
    "# Most Common Focal Value Per Cluster"
   ]
  },
  {
   "cell_type": "code",
   "execution_count": 57,
   "id": "59de2ab4",
   "metadata": {},
   "outputs": [
    {
     "data": {
      "text/plain": [
       "0    Health (i.e. cancer research)\n",
       "Name: main.focal.value, dtype: object"
      ]
     },
     "execution_count": 57,
     "metadata": {},
     "output_type": "execute_result"
    }
   ],
   "source": [
    "result_0 = cluster_0['main.focal.value'].mode()\n",
    "result_0"
   ]
  },
  {
   "cell_type": "code",
   "execution_count": 58,
   "id": "b5ec61ef",
   "metadata": {},
   "outputs": [
    {
     "data": {
      "text/plain": [
       "0    Environment\n",
       "Name: main.focal.value, dtype: object"
      ]
     },
     "execution_count": 58,
     "metadata": {},
     "output_type": "execute_result"
    }
   ],
   "source": [
    "result_1 = cluster_1['main.focal.value'].mode()\n",
    "result_1"
   ]
  },
  {
   "cell_type": "code",
   "execution_count": 59,
   "id": "1b617bd5",
   "metadata": {},
   "outputs": [
    {
     "data": {
      "text/plain": [
       "0    Education\n",
       "Name: main.focal.value, dtype: object"
      ]
     },
     "execution_count": 59,
     "metadata": {},
     "output_type": "execute_result"
    }
   ],
   "source": [
    "result_2 = cluster_2['main.focal.value'].mode()\n",
    "result_2"
   ]
  }
 ],
 "metadata": {
  "kernelspec": {
   "display_name": "Python 3 (ipykernel)",
   "language": "python",
   "name": "python3"
  },
  "language_info": {
   "codemirror_mode": {
    "name": "ipython",
    "version": 3
   },
   "file_extension": ".py",
   "mimetype": "text/x-python",
   "name": "python",
   "nbconvert_exporter": "python",
   "pygments_lexer": "ipython3",
   "version": "3.9.13"
  }
 },
 "nbformat": 4,
 "nbformat_minor": 5
}
