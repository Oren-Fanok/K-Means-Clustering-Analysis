{
 "cells": [
  {
   "cell_type": "markdown",
   "id": "b53e7d38",
   "metadata": {},
   "source": [
    "# Clustering Analysis"
   ]
  },
  {
   "cell_type": "code",
   "execution_count": 1,
   "id": "2e2cab56",
   "metadata": {},
   "outputs": [],
   "source": [
    "import pandas as pd\n",
    "import numpy as np\n",
    "from matplotlib import pyplot as plt\n",
    "from sklearn.cluster import KMeans"
   ]
  },
  {
   "cell_type": "markdown",
   "id": "ff5b83dc",
   "metadata": {},
   "source": [
    "## Demographic Clustering\n",
    "\n",
    "In this section, I will perform a cluster analysis using the fields unrelated below:\n",
    "\n",
    "* age\n",
    "* gender\n",
    "* engagement\n",
    "* account.age\n"
   ]
  },
  {
   "cell_type": "markdown",
   "id": "bb11aa73",
   "metadata": {},
   "source": [
    "# Reading in the data"
   ]
  },
  {
   "cell_type": "code",
   "execution_count": 2,
   "id": "e97f5e78",
   "metadata": {},
   "outputs": [],
   "source": [
    "cluster_df = pd.read_csv(\"washington_survey_data.txt\",sep=\"\\t\")"
   ]
  },
  {
   "cell_type": "code",
   "execution_count": 3,
   "id": "03c20932",
   "metadata": {},
   "outputs": [],
   "source": [
    "cluster_df= cluster_df.replace('Highly Engaged', 'Highly_Engaged')\n",
    "cluster_df= cluster_df.replace('Not Engaged', 'Not_Engaged')\n"
   ]
  },
  {
   "cell_type": "code",
   "execution_count": 4,
   "id": "4a5f98fb",
   "metadata": {},
   "outputs": [],
   "source": [
    "#cluster_df"
   ]
  },
  {
   "cell_type": "markdown",
   "id": "49f39338",
   "metadata": {},
   "source": [
    "# Convert the data to numeric"
   ]
  },
  {
   "cell_type": "code",
   "execution_count": 5,
   "id": "3ef7bc63",
   "metadata": {
    "scrolled": true
   },
   "outputs": [],
   "source": [
    "cluster_df.gender = cluster_df.gender.map(dict(other=0,male=1, female=2))"
   ]
  },
  {
   "cell_type": "code",
   "execution_count": 6,
   "id": "fcc0968f",
   "metadata": {},
   "outputs": [],
   "source": [
    "cluster_df.engagement = cluster_df.engagement.map(dict(Not_Engaged=0, Engaged=1, Highly_Engaged=2))"
   ]
  },
  {
   "cell_type": "code",
   "execution_count": 7,
   "id": "13ee573e",
   "metadata": {},
   "outputs": [],
   "source": [
    "#cluster_df"
   ]
  },
  {
   "cell_type": "markdown",
   "id": "a52098a9",
   "metadata": {},
   "source": [
    "# Normalize the Data"
   ]
  },
  {
   "cell_type": "code",
   "execution_count": 8,
   "id": "ac6a3e9a",
   "metadata": {},
   "outputs": [],
   "source": [
    "required_cols = ['age','gender', 'engagement', 'account.age']"
   ]
  },
  {
   "cell_type": "code",
   "execution_count": 9,
   "id": "dd3b830b",
   "metadata": {},
   "outputs": [],
   "source": [
    "numeric_df = cluster_df.loc[:,required_cols]"
   ]
  },
  {
   "cell_type": "code",
   "execution_count": 10,
   "id": "fb05dcd9",
   "metadata": {
    "scrolled": true
   },
   "outputs": [],
   "source": [
    "#numeric_df"
   ]
  },
  {
   "cell_type": "code",
   "execution_count": 11,
   "id": "651a7cc0",
   "metadata": {},
   "outputs": [],
   "source": [
    "numeric_df_normalized =(numeric_df-numeric_df.min())/(numeric_df.max()-numeric_df.min())"
   ]
  },
  {
   "cell_type": "code",
   "execution_count": 12,
   "id": "eb0a81bf",
   "metadata": {},
   "outputs": [],
   "source": [
    "#numeric_df_normalized"
   ]
  },
  {
   "cell_type": "markdown",
   "id": "13a7b179",
   "metadata": {},
   "source": [
    "# Building our K Means Model"
   ]
  },
  {
   "cell_type": "code",
   "execution_count": 13,
   "id": "db5b216d",
   "metadata": {},
   "outputs": [],
   "source": [
    "km_1 = KMeans(\n",
    "    n_clusters=3, init='random',\n",
    "    n_init=10, max_iter=300, \n",
    "    tol=1e-04, random_state=0\n",
    ")"
   ]
  },
  {
   "cell_type": "code",
   "execution_count": 14,
   "id": "82ae64a8",
   "metadata": {},
   "outputs": [],
   "source": [
    "clustering_1 = km_1.fit_predict(numeric_df_normalized)"
   ]
  },
  {
   "cell_type": "code",
   "execution_count": 15,
   "id": "d4d4d82b",
   "metadata": {},
   "outputs": [],
   "source": [
    "cluster_df['cluster'] = clustering_1"
   ]
  },
  {
   "cell_type": "markdown",
   "id": "82c39cc7",
   "metadata": {},
   "source": [
    "# Results"
   ]
  },
  {
   "cell_type": "code",
   "execution_count": null,
   "id": "f8952bd1",
   "metadata": {},
   "outputs": [],
   "source": [
    "for cluster in set(clustering_1) :\n",
    "    print(f'Printing Results for Cluster {cluster}.\\n\\n')\n",
    "    \n",
    "    print(cluster_df.query(f\"cluster == {cluster}\"))\n",
    "    \n",
    "    print(\"\\n\\n\")"
   ]
  },
  {
   "cell_type": "markdown",
   "id": "814d4d12",
   "metadata": {},
   "source": [
    "## Values Clustering\n",
    "\n",
    "Similarly to the previous section, perform a cluster analysis, this time on the values questions:\n",
    "\n",
    "* fair\n",
    "* harm\n",
    "* in.group\n",
    "* authority\n",
    "* purity\n",
    "* public.sector\n",
    "* sustainability\n",
    "* localism\n",
    "\n",
    "After you’ve built your clusters, report the following information on each cluster:\n",
    "\n",
    "* Predominant region\n",
    "* Average age and account age\n",
    "* Most common focal value\n",
    "* Mean results on the questions of `pub.greater.priv`, `experience.more.important`, and `teachers.underpaid`. "
   ]
  },
  {
   "cell_type": "markdown",
   "id": "8e9f6a78",
   "metadata": {},
   "source": [
    "# Read in the data"
   ]
  },
  {
   "cell_type": "code",
   "execution_count": 34,
   "id": "a03fb0ec",
   "metadata": {},
   "outputs": [],
   "source": [
    "cluster_df_2 = pd.read_csv(\"washington_survey_data.txt\",sep=\"\\t\")\n",
    "cluster_df_2.rename(columns = {'public.sector':'public_sector'}, inplace = True)\n"
   ]
  },
  {
   "cell_type": "markdown",
   "id": "968ba8e9",
   "metadata": {},
   "source": [
    "# Convert Data to Numeric"
   ]
  },
  {
   "cell_type": "code",
   "execution_count": 36,
   "id": "2d9ba8e6",
   "metadata": {},
   "outputs": [],
   "source": [
    "cluster_df_2.public_sector = cluster_df_2.public_sector.map(dict(no=0,yes=1))"
   ]
  },
  {
   "cell_type": "markdown",
   "id": "6b81f824",
   "metadata": {},
   "source": [
    "# Normalize our data"
   ]
  },
  {
   "cell_type": "code",
   "execution_count": 37,
   "id": "dd9ab2e0",
   "metadata": {},
   "outputs": [],
   "source": [
    "required_cols_2 = ['fair','harm', 'in.group', 'authority', 'purity', 'public_sector', 'sustainability', 'localism']"
   ]
  },
  {
   "cell_type": "code",
   "execution_count": 38,
   "id": "82b5e980",
   "metadata": {},
   "outputs": [],
   "source": [
    "numeric_df_2 = cluster_df_2.loc[:,required_cols_2]"
   ]
  },
  {
   "cell_type": "code",
   "execution_count": 39,
   "id": "25aef673",
   "metadata": {},
   "outputs": [],
   "source": [
    "numeric_df_2_norm =(numeric_df_2-numeric_df_2.min())/(numeric_df_2.max()-numeric_df_2.min())"
   ]
  },
  {
   "cell_type": "markdown",
   "id": "49fc8c92",
   "metadata": {},
   "source": [
    "# Building K Means Model"
   ]
  },
  {
   "cell_type": "code",
   "execution_count": 42,
   "id": "1c1e2f54",
   "metadata": {},
   "outputs": [],
   "source": [
    "km_2 = KMeans(\n",
    "    n_clusters=3, init='random',\n",
    "    n_init=10, max_iter=300, \n",
    "    tol=1e-04, random_state=0\n",
    ")"
   ]
  },
  {
   "cell_type": "code",
   "execution_count": 43,
   "id": "15576be7",
   "metadata": {},
   "outputs": [],
   "source": [
    "clustering_2 = km_2.fit_predict(numeric_df_2_norm)"
   ]
  },
  {
   "cell_type": "code",
   "execution_count": 44,
   "id": "ab16b33c",
   "metadata": {},
   "outputs": [],
   "source": [
    "cluster_df_2['cluster'] = clustering_2"
   ]
  },
  {
   "cell_type": "markdown",
   "id": "3da3ea09",
   "metadata": {},
   "source": [
    "# Results"
   ]
  },
  {
   "cell_type": "code",
   "execution_count": null,
   "id": "dcfff6fc",
   "metadata": {},
   "outputs": [],
   "source": [
    "for cluster in set(clustering_2) :\n",
    "    print(f'Printing Results for Cluster {cluster}.\\n\\n')\n",
    "    \n",
    "    print(cluster_df_2.query(f\"cluster == {cluster}\"))\n",
    "    \n",
    "    print(\"\\n\\n\")"
   ]
  },
  {
   "cell_type": "markdown",
   "id": "f77054ce",
   "metadata": {},
   "source": [
    "# Predominant Region Per Cluster"
   ]
  },
  {
   "cell_type": "code",
   "execution_count": 49,
   "id": "2c67adbe",
   "metadata": {},
   "outputs": [
    {
     "name": "stdout",
     "output_type": "stream",
     "text": [
      "0      Thurston\n",
      "1    W WA Metro\n",
      "Name: region, dtype: object\n"
     ]
    }
   ],
   "source": [
    "cluster_0 = cluster_df_2[cluster_df_2['cluster'] == 0]\n",
    "result_0 = cluster_0['region'].mode()\n",
    "print(result_0)"
   ]
  },
  {
   "cell_type": "code",
   "execution_count": 50,
   "id": "667c25a6",
   "metadata": {},
   "outputs": [
    {
     "name": "stdout",
     "output_type": "stream",
     "text": [
      "0    W WA Metro\n",
      "Name: region, dtype: object\n"
     ]
    }
   ],
   "source": [
    "cluster_1 = cluster_df_2[cluster_df_2['cluster'] == 1]\n",
    "result_1 = cluster_1['region'].mode()\n",
    "print(result_1)"
   ]
  },
  {
   "cell_type": "code",
   "execution_count": 51,
   "id": "b77118e5",
   "metadata": {},
   "outputs": [
    {
     "name": "stdout",
     "output_type": "stream",
     "text": [
      "0    W WA Metro\n",
      "Name: region, dtype: object\n"
     ]
    }
   ],
   "source": [
    "cluster_2 = cluster_df_2[cluster_df_2['cluster'] == 2]\n",
    "result_2 = cluster_2['region'].mode()\n",
    "print(result_2)"
   ]
  },
  {
   "cell_type": "markdown",
   "id": "f714a1f4",
   "metadata": {},
   "source": [
    "# Average Age Per Cluster"
   ]
  },
  {
   "cell_type": "code",
   "execution_count": 53,
   "id": "fc51d577",
   "metadata": {},
   "outputs": [
    {
     "data": {
      "text/plain": [
       "55.9779792746114"
      ]
     },
     "execution_count": 53,
     "metadata": {},
     "output_type": "execute_result"
    }
   ],
   "source": [
    "result_0 = cluster_0['age'].mean()\n",
    "result_0"
   ]
  },
  {
   "cell_type": "code",
   "execution_count": 54,
   "id": "f5b4b191",
   "metadata": {},
   "outputs": [
    {
     "data": {
      "text/plain": [
       "52.61685214626391"
      ]
     },
     "execution_count": 54,
     "metadata": {},
     "output_type": "execute_result"
    }
   ],
   "source": [
    "result_1 = cluster_1['age'].mean()\n",
    "result_1"
   ]
  },
  {
   "cell_type": "code",
   "execution_count": 55,
   "id": "8c2dda98",
   "metadata": {},
   "outputs": [
    {
     "data": {
      "text/plain": [
       "45.41470588235294"
      ]
     },
     "execution_count": 55,
     "metadata": {},
     "output_type": "execute_result"
    }
   ],
   "source": [
    "result_2 = cluster_2['age'].mean()\n",
    "result_2"
   ]
  },
  {
   "cell_type": "markdown",
   "id": "b35e9c51",
   "metadata": {},
   "source": [
    "# Most Common Focal Value Per Cluster"
   ]
  },
  {
   "cell_type": "code",
   "execution_count": 57,
   "id": "59de2ab4",
   "metadata": {},
   "outputs": [
    {
     "data": {
      "text/plain": [
       "0    Health (i.e. cancer research)\n",
       "Name: main.focal.value, dtype: object"
      ]
     },
     "execution_count": 57,
     "metadata": {},
     "output_type": "execute_result"
    }
   ],
   "source": [
    "result_0 = cluster_0['main.focal.value'].mode()\n",
    "result_0"
   ]
  },
  {
   "cell_type": "code",
   "execution_count": 58,
   "id": "b5ec61ef",
   "metadata": {},
   "outputs": [
    {
     "data": {
      "text/plain": [
       "0    Environment\n",
       "Name: main.focal.value, dtype: object"
      ]
     },
     "execution_count": 58,
     "metadata": {},
     "output_type": "execute_result"
    }
   ],
   "source": [
    "result_1 = cluster_1['main.focal.value'].mode()\n",
    "result_1"
   ]
  },
  {
   "cell_type": "code",
   "execution_count": 59,
   "id": "1b617bd5",
   "metadata": {},
   "outputs": [
    {
     "data": {
      "text/plain": [
       "0    Education\n",
       "Name: main.focal.value, dtype: object"
      ]
     },
     "execution_count": 59,
     "metadata": {},
     "output_type": "execute_result"
    }
   ],
   "source": [
    "result_2 = cluster_2['main.focal.value'].mode()\n",
    "result_2"
   ]
  }
 ],
 "metadata": {
  "kernelspec": {
   "display_name": "Python 3 (ipykernel)",
   "language": "python",
   "name": "python3"
  },
  "language_info": {
   "codemirror_mode": {
    "name": "ipython",
    "version": 3
   },
   "file_extension": ".py",
   "mimetype": "text/x-python",
   "name": "python",
   "nbconvert_exporter": "python",
   "pygments_lexer": "ipython3",
   "version": "3.9.13"
  }
 },
 "nbformat": 4,
 "nbformat_minor": 5
}
